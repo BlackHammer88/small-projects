{
 "cells": [
  {
   "cell_type": "markdown",
   "id": "7e96ed16",
   "metadata": {},
   "source": [
    "<img src=\"https://dev.skillup.online/asset-v1:SkillUp+SKOAI101+PLU_2021_1+type@asset+block@SKO.png\" width=\"250\" align=\"center\">\n",
    "\n",
    "<h1 align=\"center\"><font size=\"5\"> Analyzing and Visualizing Bit Coin Prices</font></h1>"
   ]
  },
  {
   "cell_type": "markdown",
   "id": "e3a8eea7",
   "metadata": {},
   "source": [
    "## Importing Libraries"
   ]
  },
  {
   "cell_type": "code",
   "execution_count": 36,
   "id": "87c3a255",
   "metadata": {
    "tags": []
   },
   "outputs": [],
   "source": [
    "# import libraries\n",
    "import numpy as np \n",
    "import pandas as pd\n",
    "import matplotlib.pyplot as plt\n",
    "import seaborn as sns\n",
    "%matplotlib inline  "
   ]
  },
  {
   "cell_type": "markdown",
   "id": "e231c70e",
   "metadata": {},
   "source": [
    "## Reading Data Set"
   ]
  },
  {
   "cell_type": "code",
   "execution_count": 65,
   "id": "f34e9b4d",
   "metadata": {
    "tags": []
   },
   "outputs": [],
   "source": [
    "# Read the data set using read_csv function\n",
    "\n",
    "df=pd.read_csv(\"E:\\\\SKillUp\\\\Module - AI foundations\\\\PRojects\\\\Bitcoin\\\\bitcoin_prices.xls\")"
   ]
  },
  {
   "cell_type": "markdown",
   "id": "2ee51b0c",
   "metadata": {},
   "source": [
    "### Get glimpse of data"
   ]
  },
  {
   "cell_type": "code",
   "execution_count": 66,
   "id": "97fd801e",
   "metadata": {
    "tags": []
   },
   "outputs": [
    {
     "data": {
      "text/html": [
       "<div>\n",
       "<style scoped>\n",
       "    .dataframe tbody tr th:only-of-type {\n",
       "        vertical-align: middle;\n",
       "    }\n",
       "\n",
       "    .dataframe tbody tr th {\n",
       "        vertical-align: top;\n",
       "    }\n",
       "\n",
       "    .dataframe thead th {\n",
       "        text-align: right;\n",
       "    }\n",
       "</style>\n",
       "<table border=\"1\" class=\"dataframe\">\n",
       "  <thead>\n",
       "    <tr style=\"text-align: right;\">\n",
       "      <th></th>\n",
       "      <th>open</th>\n",
       "      <th>high</th>\n",
       "      <th>low</th>\n",
       "      <th>close</th>\n",
       "      <th>tick_volume</th>\n",
       "      <th>year</th>\n",
       "      <th>month</th>\n",
       "      <th>day</th>\n",
       "    </tr>\n",
       "  </thead>\n",
       "  <tbody>\n",
       "    <tr>\n",
       "      <th>0</th>\n",
       "      <td>5.26</td>\n",
       "      <td>5.47</td>\n",
       "      <td>4.80</td>\n",
       "      <td>5.21</td>\n",
       "      <td>69150</td>\n",
       "      <td>2012</td>\n",
       "      <td>1</td>\n",
       "      <td>2</td>\n",
       "    </tr>\n",
       "    <tr>\n",
       "      <th>1</th>\n",
       "      <td>5.22</td>\n",
       "      <td>5.29</td>\n",
       "      <td>4.65</td>\n",
       "      <td>4.88</td>\n",
       "      <td>125170</td>\n",
       "      <td>2012</td>\n",
       "      <td>1</td>\n",
       "      <td>3</td>\n",
       "    </tr>\n",
       "    <tr>\n",
       "      <th>2</th>\n",
       "      <td>4.88</td>\n",
       "      <td>5.70</td>\n",
       "      <td>4.75</td>\n",
       "      <td>5.57</td>\n",
       "      <td>131170</td>\n",
       "      <td>2012</td>\n",
       "      <td>1</td>\n",
       "      <td>4</td>\n",
       "    </tr>\n",
       "    <tr>\n",
       "      <th>3</th>\n",
       "      <td>5.57</td>\n",
       "      <td>7.22</td>\n",
       "      <td>5.57</td>\n",
       "      <td>6.94</td>\n",
       "      <td>182328</td>\n",
       "      <td>2012</td>\n",
       "      <td>1</td>\n",
       "      <td>5</td>\n",
       "    </tr>\n",
       "    <tr>\n",
       "      <th>4</th>\n",
       "      <td>6.95</td>\n",
       "      <td>7.21</td>\n",
       "      <td>6.13</td>\n",
       "      <td>6.70</td>\n",
       "      <td>218077</td>\n",
       "      <td>2012</td>\n",
       "      <td>1</td>\n",
       "      <td>6</td>\n",
       "    </tr>\n",
       "  </tbody>\n",
       "</table>\n",
       "</div>"
      ],
      "text/plain": [
       "   open  high   low  close  tick_volume  year  month  day\n",
       "0  5.26  5.47  4.80   5.21        69150  2012      1    2\n",
       "1  5.22  5.29  4.65   4.88       125170  2012      1    3\n",
       "2  4.88  5.70  4.75   5.57       131170  2012      1    4\n",
       "3  5.57  7.22  5.57   6.94       182328  2012      1    5\n",
       "4  6.95  7.21  6.13   6.70       218077  2012      1    6"
      ]
     },
     "execution_count": 66,
     "metadata": {},
     "output_type": "execute_result"
    }
   ],
   "source": [
    "df.head()"
   ]
  },
  {
   "cell_type": "code",
   "execution_count": 67,
   "id": "c9e7ec34-65c0-405f-8a72-d5093b6caad2",
   "metadata": {
    "tags": []
   },
   "outputs": [
    {
     "data": {
      "text/plain": [
       "(2404, 8)"
      ]
     },
     "execution_count": 67,
     "metadata": {},
     "output_type": "execute_result"
    }
   ],
   "source": [
    "df.shape"
   ]
  },
  {
   "cell_type": "code",
   "execution_count": 68,
   "id": "ff4d9748-0aa6-44a7-b2b7-9195b98b051c",
   "metadata": {
    "tags": []
   },
   "outputs": [
    {
     "name": "stdout",
     "output_type": "stream",
     "text": [
      "<class 'pandas.core.frame.DataFrame'>\n",
      "RangeIndex: 2404 entries, 0 to 2403\n",
      "Data columns (total 8 columns):\n",
      " #   Column       Non-Null Count  Dtype  \n",
      "---  ------       --------------  -----  \n",
      " 0   open         2404 non-null   float64\n",
      " 1   high         2404 non-null   float64\n",
      " 2   low          2404 non-null   float64\n",
      " 3   close        2404 non-null   float64\n",
      " 4   tick_volume  2404 non-null   int64  \n",
      " 5   year         2404 non-null   int64  \n",
      " 6   month        2404 non-null   int64  \n",
      " 7   day          2404 non-null   int64  \n",
      "dtypes: float64(4), int64(4)\n",
      "memory usage: 150.4 KB\n"
     ]
    }
   ],
   "source": [
    "df.info()"
   ]
  },
  {
   "cell_type": "code",
   "execution_count": 69,
   "id": "7cf3683f-f3f9-45f7-9a95-2c6dddc320fe",
   "metadata": {
    "tags": []
   },
   "outputs": [
    {
     "data": {
      "text/html": [
       "<div>\n",
       "<style scoped>\n",
       "    .dataframe tbody tr th:only-of-type {\n",
       "        vertical-align: middle;\n",
       "    }\n",
       "\n",
       "    .dataframe tbody tr th {\n",
       "        vertical-align: top;\n",
       "    }\n",
       "\n",
       "    .dataframe thead th {\n",
       "        text-align: right;\n",
       "    }\n",
       "</style>\n",
       "<table border=\"1\" class=\"dataframe\">\n",
       "  <thead>\n",
       "    <tr style=\"text-align: right;\">\n",
       "      <th></th>\n",
       "      <th>open</th>\n",
       "      <th>high</th>\n",
       "      <th>low</th>\n",
       "      <th>close</th>\n",
       "      <th>tick_volume</th>\n",
       "      <th>year</th>\n",
       "      <th>month</th>\n",
       "      <th>day</th>\n",
       "    </tr>\n",
       "  </thead>\n",
       "  <tbody>\n",
       "    <tr>\n",
       "      <th>open</th>\n",
       "      <td>1.000000</td>\n",
       "      <td>0.999054</td>\n",
       "      <td>0.998734</td>\n",
       "      <td>0.998377</td>\n",
       "      <td>0.501582</td>\n",
       "      <td>0.787030</td>\n",
       "      <td>0.136412</td>\n",
       "      <td>0.012177</td>\n",
       "    </tr>\n",
       "    <tr>\n",
       "      <th>high</th>\n",
       "      <td>0.999054</td>\n",
       "      <td>1.000000</td>\n",
       "      <td>0.998185</td>\n",
       "      <td>0.999191</td>\n",
       "      <td>0.511506</td>\n",
       "      <td>0.783576</td>\n",
       "      <td>0.135127</td>\n",
       "      <td>0.012475</td>\n",
       "    </tr>\n",
       "    <tr>\n",
       "      <th>low</th>\n",
       "      <td>0.998734</td>\n",
       "      <td>0.998185</td>\n",
       "      <td>1.000000</td>\n",
       "      <td>0.999107</td>\n",
       "      <td>0.483456</td>\n",
       "      <td>0.790293</td>\n",
       "      <td>0.139298</td>\n",
       "      <td>0.011950</td>\n",
       "    </tr>\n",
       "    <tr>\n",
       "      <th>close</th>\n",
       "      <td>0.998377</td>\n",
       "      <td>0.999191</td>\n",
       "      <td>0.999107</td>\n",
       "      <td>1.000000</td>\n",
       "      <td>0.497049</td>\n",
       "      <td>0.785887</td>\n",
       "      <td>0.138021</td>\n",
       "      <td>0.011910</td>\n",
       "    </tr>\n",
       "    <tr>\n",
       "      <th>tick_volume</th>\n",
       "      <td>0.501582</td>\n",
       "      <td>0.511506</td>\n",
       "      <td>0.483456</td>\n",
       "      <td>0.497049</td>\n",
       "      <td>1.000000</td>\n",
       "      <td>0.323470</td>\n",
       "      <td>-0.027225</td>\n",
       "      <td>-0.001627</td>\n",
       "    </tr>\n",
       "    <tr>\n",
       "      <th>year</th>\n",
       "      <td>0.787030</td>\n",
       "      <td>0.783576</td>\n",
       "      <td>0.790293</td>\n",
       "      <td>0.785887</td>\n",
       "      <td>0.323470</td>\n",
       "      <td>1.000000</td>\n",
       "      <td>-0.007967</td>\n",
       "      <td>-0.000186</td>\n",
       "    </tr>\n",
       "    <tr>\n",
       "      <th>month</th>\n",
       "      <td>0.136412</td>\n",
       "      <td>0.135127</td>\n",
       "      <td>0.139298</td>\n",
       "      <td>0.138021</td>\n",
       "      <td>-0.027225</td>\n",
       "      <td>-0.007967</td>\n",
       "      <td>1.000000</td>\n",
       "      <td>0.004695</td>\n",
       "    </tr>\n",
       "    <tr>\n",
       "      <th>day</th>\n",
       "      <td>0.012177</td>\n",
       "      <td>0.012475</td>\n",
       "      <td>0.011950</td>\n",
       "      <td>0.011910</td>\n",
       "      <td>-0.001627</td>\n",
       "      <td>-0.000186</td>\n",
       "      <td>0.004695</td>\n",
       "      <td>1.000000</td>\n",
       "    </tr>\n",
       "  </tbody>\n",
       "</table>\n",
       "</div>"
      ],
      "text/plain": [
       "                 open      high       low     close  tick_volume      year  \\\n",
       "open         1.000000  0.999054  0.998734  0.998377     0.501582  0.787030   \n",
       "high         0.999054  1.000000  0.998185  0.999191     0.511506  0.783576   \n",
       "low          0.998734  0.998185  1.000000  0.999107     0.483456  0.790293   \n",
       "close        0.998377  0.999191  0.999107  1.000000     0.497049  0.785887   \n",
       "tick_volume  0.501582  0.511506  0.483456  0.497049     1.000000  0.323470   \n",
       "year         0.787030  0.783576  0.790293  0.785887     0.323470  1.000000   \n",
       "month        0.136412  0.135127  0.139298  0.138021    -0.027225 -0.007967   \n",
       "day          0.012177  0.012475  0.011950  0.011910    -0.001627 -0.000186   \n",
       "\n",
       "                month       day  \n",
       "open         0.136412  0.012177  \n",
       "high         0.135127  0.012475  \n",
       "low          0.139298  0.011950  \n",
       "close        0.138021  0.011910  \n",
       "tick_volume -0.027225 -0.001627  \n",
       "year        -0.007967 -0.000186  \n",
       "month        1.000000  0.004695  \n",
       "day          0.004695  1.000000  "
      ]
     },
     "execution_count": 69,
     "metadata": {},
     "output_type": "execute_result"
    }
   ],
   "source": [
    "df.corr()"
   ]
  },
  {
   "cell_type": "code",
   "execution_count": 70,
   "id": "a02c1a30-9ea1-4492-8889-229669eb6137",
   "metadata": {
    "tags": []
   },
   "outputs": [
    {
     "data": {
      "text/html": [
       "<div>\n",
       "<style scoped>\n",
       "    .dataframe tbody tr th:only-of-type {\n",
       "        vertical-align: middle;\n",
       "    }\n",
       "\n",
       "    .dataframe tbody tr th {\n",
       "        vertical-align: top;\n",
       "    }\n",
       "\n",
       "    .dataframe thead th {\n",
       "        text-align: right;\n",
       "    }\n",
       "</style>\n",
       "<table border=\"1\" class=\"dataframe\">\n",
       "  <thead>\n",
       "    <tr style=\"text-align: right;\">\n",
       "      <th></th>\n",
       "      <th>open</th>\n",
       "      <th>high</th>\n",
       "      <th>low</th>\n",
       "      <th>close</th>\n",
       "      <th>tick_volume</th>\n",
       "      <th>year</th>\n",
       "      <th>month</th>\n",
       "      <th>day</th>\n",
       "    </tr>\n",
       "  </thead>\n",
       "  <tbody>\n",
       "    <tr>\n",
       "      <th>count</th>\n",
       "      <td>2404.000000</td>\n",
       "      <td>2404.000000</td>\n",
       "      <td>2404.000000</td>\n",
       "      <td>2404.000000</td>\n",
       "      <td>2.404000e+03</td>\n",
       "      <td>2404.000000</td>\n",
       "      <td>2404.000000</td>\n",
       "      <td>2404.000000</td>\n",
       "    </tr>\n",
       "    <tr>\n",
       "      <th>mean</th>\n",
       "      <td>3567.653057</td>\n",
       "      <td>3683.417646</td>\n",
       "      <td>3455.242583</td>\n",
       "      <td>3581.347841</td>\n",
       "      <td>8.994595e+05</td>\n",
       "      <td>2016.030366</td>\n",
       "      <td>6.495008</td>\n",
       "      <td>15.740849</td>\n",
       "    </tr>\n",
       "    <tr>\n",
       "      <th>std</th>\n",
       "      <td>4550.887219</td>\n",
       "      <td>4711.210949</td>\n",
       "      <td>4399.844433</td>\n",
       "      <td>4577.830738</td>\n",
       "      <td>1.730617e+06</td>\n",
       "      <td>2.560689</td>\n",
       "      <td>3.450195</td>\n",
       "      <td>8.796198</td>\n",
       "    </tr>\n",
       "    <tr>\n",
       "      <th>min</th>\n",
       "      <td>4.270000</td>\n",
       "      <td>4.400000</td>\n",
       "      <td>3.880000</td>\n",
       "      <td>4.270000</td>\n",
       "      <td>1.000000e+00</td>\n",
       "      <td>2012.000000</td>\n",
       "      <td>1.000000</td>\n",
       "      <td>1.000000</td>\n",
       "    </tr>\n",
       "    <tr>\n",
       "      <th>25%</th>\n",
       "      <td>242.850000</td>\n",
       "      <td>247.555000</td>\n",
       "      <td>238.997500</td>\n",
       "      <td>242.845000</td>\n",
       "      <td>1.164375e+04</td>\n",
       "      <td>2014.000000</td>\n",
       "      <td>3.000000</td>\n",
       "      <td>8.000000</td>\n",
       "    </tr>\n",
       "    <tr>\n",
       "      <th>50%</th>\n",
       "      <td>664.165000</td>\n",
       "      <td>698.525000</td>\n",
       "      <td>650.000000</td>\n",
       "      <td>665.600000</td>\n",
       "      <td>5.729700e+04</td>\n",
       "      <td>2016.000000</td>\n",
       "      <td>7.000000</td>\n",
       "      <td>16.000000</td>\n",
       "    </tr>\n",
       "    <tr>\n",
       "      <th>75%</th>\n",
       "      <td>6878.190000</td>\n",
       "      <td>7154.642500</td>\n",
       "      <td>6682.545000</td>\n",
       "      <td>6904.122500</td>\n",
       "      <td>1.215402e+06</td>\n",
       "      <td>2018.000000</td>\n",
       "      <td>9.250000</td>\n",
       "      <td>23.000000</td>\n",
       "    </tr>\n",
       "    <tr>\n",
       "      <th>max</th>\n",
       "      <td>28895.640000</td>\n",
       "      <td>29312.120000</td>\n",
       "      <td>27892.130000</td>\n",
       "      <td>28908.020000</td>\n",
       "      <td>2.042834e+07</td>\n",
       "      <td>2020.000000</td>\n",
       "      <td>12.000000</td>\n",
       "      <td>31.000000</td>\n",
       "    </tr>\n",
       "  </tbody>\n",
       "</table>\n",
       "</div>"
      ],
      "text/plain": [
       "               open          high           low         close   tick_volume  \\\n",
       "count   2404.000000   2404.000000   2404.000000   2404.000000  2.404000e+03   \n",
       "mean    3567.653057   3683.417646   3455.242583   3581.347841  8.994595e+05   \n",
       "std     4550.887219   4711.210949   4399.844433   4577.830738  1.730617e+06   \n",
       "min        4.270000      4.400000      3.880000      4.270000  1.000000e+00   \n",
       "25%      242.850000    247.555000    238.997500    242.845000  1.164375e+04   \n",
       "50%      664.165000    698.525000    650.000000    665.600000  5.729700e+04   \n",
       "75%     6878.190000   7154.642500   6682.545000   6904.122500  1.215402e+06   \n",
       "max    28895.640000  29312.120000  27892.130000  28908.020000  2.042834e+07   \n",
       "\n",
       "              year        month          day  \n",
       "count  2404.000000  2404.000000  2404.000000  \n",
       "mean   2016.030366     6.495008    15.740849  \n",
       "std       2.560689     3.450195     8.796198  \n",
       "min    2012.000000     1.000000     1.000000  \n",
       "25%    2014.000000     3.000000     8.000000  \n",
       "50%    2016.000000     7.000000    16.000000  \n",
       "75%    2018.000000     9.250000    23.000000  \n",
       "max    2020.000000    12.000000    31.000000  "
      ]
     },
     "execution_count": 70,
     "metadata": {},
     "output_type": "execute_result"
    }
   ],
   "source": [
    "df.describe()"
   ]
  },
  {
   "cell_type": "markdown",
   "id": "621ae0ac",
   "metadata": {},
   "source": [
    "### Q1. groupby dataframe on <code>year</code> and find the mean value,"
   ]
  },
  {
   "cell_type": "code",
   "execution_count": 163,
   "id": "be981cd1",
   "metadata": {
    "tags": []
   },
   "outputs": [
    {
     "data": {
      "text/html": [
       "<div>\n",
       "<style scoped>\n",
       "    .dataframe tbody tr th:only-of-type {\n",
       "        vertical-align: middle;\n",
       "    }\n",
       "\n",
       "    .dataframe tbody tr th {\n",
       "        vertical-align: top;\n",
       "    }\n",
       "\n",
       "    .dataframe thead th {\n",
       "        text-align: right;\n",
       "    }\n",
       "</style>\n",
       "<table border=\"1\" class=\"dataframe\">\n",
       "  <thead>\n",
       "    <tr style=\"text-align: right;\">\n",
       "      <th></th>\n",
       "      <th>year</th>\n",
       "      <th>open</th>\n",
       "      <th>high</th>\n",
       "      <th>low</th>\n",
       "      <th>close</th>\n",
       "      <th>tick_volume</th>\n",
       "      <th>month</th>\n",
       "      <th>day</th>\n",
       "    </tr>\n",
       "  </thead>\n",
       "  <tbody>\n",
       "    <tr>\n",
       "      <th>0</th>\n",
       "      <td>2012</td>\n",
       "      <td>8.249119</td>\n",
       "      <td>8.482605</td>\n",
       "      <td>8.034674</td>\n",
       "      <td>8.303602</td>\n",
       "      <td>6.156866e+04</td>\n",
       "      <td>6.501916</td>\n",
       "      <td>15.819923</td>\n",
       "    </tr>\n",
       "    <tr>\n",
       "      <th>1</th>\n",
       "      <td>2013</td>\n",
       "      <td>182.396475</td>\n",
       "      <td>195.594023</td>\n",
       "      <td>170.112989</td>\n",
       "      <td>185.867663</td>\n",
       "      <td>1.321434e+06</td>\n",
       "      <td>6.513410</td>\n",
       "      <td>15.704981</td>\n",
       "    </tr>\n",
       "    <tr>\n",
       "      <th>2</th>\n",
       "      <td>2014</td>\n",
       "      <td>520.448123</td>\n",
       "      <td>534.720881</td>\n",
       "      <td>502.673027</td>\n",
       "      <td>518.500077</td>\n",
       "      <td>9.195414e+03</td>\n",
       "      <td>6.524904</td>\n",
       "      <td>15.750958</td>\n",
       "    </tr>\n",
       "    <tr>\n",
       "      <th>3</th>\n",
       "      <td>2015</td>\n",
       "      <td>268.885862</td>\n",
       "      <td>275.916628</td>\n",
       "      <td>263.178314</td>\n",
       "      <td>269.679579</td>\n",
       "      <td>9.137854e+03</td>\n",
       "      <td>6.540230</td>\n",
       "      <td>15.685824</td>\n",
       "    </tr>\n",
       "    <tr>\n",
       "      <th>4</th>\n",
       "      <td>2016</td>\n",
       "      <td>560.208467</td>\n",
       "      <td>568.469004</td>\n",
       "      <td>552.945556</td>\n",
       "      <td>561.547548</td>\n",
       "      <td>1.886472e+04</td>\n",
       "      <td>6.524904</td>\n",
       "      <td>15.708812</td>\n",
       "    </tr>\n",
       "  </tbody>\n",
       "</table>\n",
       "</div>"
      ],
      "text/plain": [
       "   year        open        high         low       close   tick_volume  \\\n",
       "0  2012    8.249119    8.482605    8.034674    8.303602  6.156866e+04   \n",
       "1  2013  182.396475  195.594023  170.112989  185.867663  1.321434e+06   \n",
       "2  2014  520.448123  534.720881  502.673027  518.500077  9.195414e+03   \n",
       "3  2015  268.885862  275.916628  263.178314  269.679579  9.137854e+03   \n",
       "4  2016  560.208467  568.469004  552.945556  561.547548  1.886472e+04   \n",
       "\n",
       "      month        day  \n",
       "0  6.501916  15.819923  \n",
       "1  6.513410  15.704981  \n",
       "2  6.524904  15.750958  \n",
       "3  6.540230  15.685824  \n",
       "4  6.524904  15.708812  "
      ]
     },
     "execution_count": 163,
     "metadata": {},
     "output_type": "execute_result"
    }
   ],
   "source": [
    "# Write your code here\n",
    "grouped = df.groupby('year')\n",
    "df_mean = grouped.mean().reset_index()\n",
    "df_mean.head()"
   ]
  },
  {
   "cell_type": "code",
   "execution_count": 141,
   "id": "2cb431d3-0087-4864-89c3-422ad7465b8a",
   "metadata": {
    "tags": []
   },
   "outputs": [
    {
     "data": {
      "text/plain": [
       "3567.653057404327"
      ]
     },
     "execution_count": 141,
     "metadata": {},
     "output_type": "execute_result"
    }
   ],
   "source": [
    "df['open'].mean()"
   ]
  },
  {
   "cell_type": "markdown",
   "id": "ba6885cf",
   "metadata": {},
   "source": [
    "### Q2. Visualize mean value of <code>open</code> yearly."
   ]
  },
  {
   "cell_type": "code",
   "execution_count": 153,
   "id": "9b33ac0e-9015-432b-a623-db8d2d670d09",
   "metadata": {
    "tags": []
   },
   "outputs": [
    {
     "data": {
      "text/plain": [
       "[Text(0.5, 1.0, 'Mean Value of Open Yearly')]"
      ]
     },
     "execution_count": 153,
     "metadata": {},
     "output_type": "execute_result"
    },
    {
     "data": {
      "image/png": "[encoded data removed]",
      "text/plain": [
       "<Figure size 640x480 with 1 Axes>"
      ]
     },
     "metadata": {},
     "output_type": "display_data"
    }
   ],
   "source": [
    "# Plotting two charts\n",
    "# Bar Graph\n",
    "sns.barplot(x='year',y='open',data= df_mean,palette='magma').set(title = \"Mean Value of Open Yearly\")\n",
    "\n",
    "\n",
    "\n",
    "#Creating Pie Chart\n",
    "# plt.pie(df_mean['year'], labels = df_mean['open'], startangle = 90, autopct = '%.2f',wedgeprops={'edgecolor': 'black'})\n",
    "# plt.title('Mean Value of Open')\n",
    "# plt.show()"
   ]
  },
  {
   "cell_type": "markdown",
   "id": "3a89977f",
   "metadata": {},
   "source": [
    "### Q3. Visualize mean value of <code>close</code> yearly."
   ]
  },
  {
   "cell_type": "code",
   "execution_count": 162,
   "id": "8feec2da",
   "metadata": {
    "tags": []
   },
   "outputs": [
    {
     "data": {
      "text/plain": [
       "[Text(0.5, 1.0, 'Mean Value of Close Yearly')]"
      ]
     },
     "execution_count": 162,
     "metadata": {},
     "output_type": "execute_result"
    },
    {
     "data": {
      "image/png": "[encoded data removed]",
      "text/plain": [
       "<Figure size 640x480 with 1 Axes>"
      ]
     },
     "metadata": {},
     "output_type": "display_data"
    }
   ],
   "source": [
    "# Write your code here\n",
    "sns.barplot(x = 'year', y = 'close', data = df_mean, width = 0.5).set(title = 'Mean Value of Close Yearly')"
   ]
  },
  {
   "cell_type": "markdown",
   "id": "a1658d81",
   "metadata": {},
   "source": [
    "### Q4. groupby dataframe on <code>year</code> and find the median value."
   ]
  },
  {
   "cell_type": "code",
   "execution_count": 150,
   "id": "6c89f33e",
   "metadata": {
    "tags": []
   },
   "outputs": [
    {
     "data": {
      "text/html": [
       "<div>\n",
       "<style scoped>\n",
       "    .dataframe tbody tr th:only-of-type {\n",
       "        vertical-align: middle;\n",
       "    }\n",
       "\n",
       "    .dataframe tbody tr th {\n",
       "        vertical-align: top;\n",
       "    }\n",
       "\n",
       "    .dataframe thead th {\n",
       "        text-align: right;\n",
       "    }\n",
       "</style>\n",
       "<table border=\"1\" class=\"dataframe\">\n",
       "  <thead>\n",
       "    <tr style=\"text-align: right;\">\n",
       "      <th></th>\n",
       "      <th>year</th>\n",
       "      <th>open</th>\n",
       "      <th>high</th>\n",
       "      <th>low</th>\n",
       "      <th>close</th>\n",
       "      <th>tick_volume</th>\n",
       "      <th>month</th>\n",
       "      <th>day</th>\n",
       "    </tr>\n",
       "  </thead>\n",
       "  <tbody>\n",
       "    <tr>\n",
       "      <th>0</th>\n",
       "      <td>2012</td>\n",
       "      <td>6.800</td>\n",
       "      <td>7.10</td>\n",
       "      <td>6.510</td>\n",
       "      <td>6.700</td>\n",
       "      <td>46830.0</td>\n",
       "      <td>7.0</td>\n",
       "      <td>16.0</td>\n",
       "    </tr>\n",
       "    <tr>\n",
       "      <th>1</th>\n",
       "      <td>2013</td>\n",
       "      <td>111.300</td>\n",
       "      <td>116.44</td>\n",
       "      <td>106.000</td>\n",
       "      <td>112.250</td>\n",
       "      <td>17966.0</td>\n",
       "      <td>7.0</td>\n",
       "      <td>16.0</td>\n",
       "    </tr>\n",
       "    <tr>\n",
       "      <th>2</th>\n",
       "      <td>2014</td>\n",
       "      <td>501.210</td>\n",
       "      <td>517.00</td>\n",
       "      <td>477.300</td>\n",
       "      <td>501.220</td>\n",
       "      <td>8073.0</td>\n",
       "      <td>7.0</td>\n",
       "      <td>16.0</td>\n",
       "    </tr>\n",
       "    <tr>\n",
       "      <th>3</th>\n",
       "      <td>2015</td>\n",
       "      <td>246.000</td>\n",
       "      <td>251.99</td>\n",
       "      <td>241.090</td>\n",
       "      <td>245.970</td>\n",
       "      <td>7811.0</td>\n",
       "      <td>7.0</td>\n",
       "      <td>16.0</td>\n",
       "    </tr>\n",
       "    <tr>\n",
       "      <th>4</th>\n",
       "      <td>2016</td>\n",
       "      <td>577.960</td>\n",
       "      <td>582.05</td>\n",
       "      <td>573.040</td>\n",
       "      <td>576.850</td>\n",
       "      <td>17009.0</td>\n",
       "      <td>7.0</td>\n",
       "      <td>16.0</td>\n",
       "    </tr>\n",
       "    <tr>\n",
       "      <th>5</th>\n",
       "      <td>2017</td>\n",
       "      <td>2622.985</td>\n",
       "      <td>2743.55</td>\n",
       "      <td>2547.640</td>\n",
       "      <td>2640.920</td>\n",
       "      <td>445335.0</td>\n",
       "      <td>7.0</td>\n",
       "      <td>16.0</td>\n",
       "    </tr>\n",
       "    <tr>\n",
       "      <th>6</th>\n",
       "      <td>2018</td>\n",
       "      <td>7138.750</td>\n",
       "      <td>7421.45</td>\n",
       "      <td>6868.370</td>\n",
       "      <td>7148.500</td>\n",
       "      <td>1278851.5</td>\n",
       "      <td>6.0</td>\n",
       "      <td>16.0</td>\n",
       "    </tr>\n",
       "    <tr>\n",
       "      <th>7</th>\n",
       "      <td>2019</td>\n",
       "      <td>7815.950</td>\n",
       "      <td>8115.60</td>\n",
       "      <td>7483.790</td>\n",
       "      <td>7831.450</td>\n",
       "      <td>1302461.0</td>\n",
       "      <td>7.0</td>\n",
       "      <td>16.0</td>\n",
       "    </tr>\n",
       "    <tr>\n",
       "      <th>8</th>\n",
       "      <td>2020</td>\n",
       "      <td>9672.340</td>\n",
       "      <td>9887.64</td>\n",
       "      <td>9467.515</td>\n",
       "      <td>9683.635</td>\n",
       "      <td>1752751.0</td>\n",
       "      <td>7.0</td>\n",
       "      <td>16.0</td>\n",
       "    </tr>\n",
       "  </tbody>\n",
       "</table>\n",
       "</div>"
      ],
      "text/plain": [
       "   year      open     high       low     close  tick_volume  month   day\n",
       "0  2012     6.800     7.10     6.510     6.700      46830.0    7.0  16.0\n",
       "1  2013   111.300   116.44   106.000   112.250      17966.0    7.0  16.0\n",
       "2  2014   501.210   517.00   477.300   501.220       8073.0    7.0  16.0\n",
       "3  2015   246.000   251.99   241.090   245.970       7811.0    7.0  16.0\n",
       "4  2016   577.960   582.05   573.040   576.850      17009.0    7.0  16.0\n",
       "5  2017  2622.985  2743.55  2547.640  2640.920     445335.0    7.0  16.0\n",
       "6  2018  7138.750  7421.45  6868.370  7148.500    1278851.5    6.0  16.0\n",
       "7  2019  7815.950  8115.60  7483.790  7831.450    1302461.0    7.0  16.0\n",
       "8  2020  9672.340  9887.64  9467.515  9683.635    1752751.0    7.0  16.0"
      ]
     },
     "execution_count": 150,
     "metadata": {},
     "output_type": "execute_result"
    }
   ],
   "source": [
    "# Write your code here\n",
    "grouped = df.groupby('year')\n",
    "df_median = grouped.median().reset_index()\n",
    "df_median"
   ]
  },
  {
   "cell_type": "markdown",
   "id": "a9acd146",
   "metadata": {},
   "source": [
    "### Q5. Visualize median value of <code>open</code> yearly."
   ]
  },
  {
   "cell_type": "code",
   "execution_count": 152,
   "id": "ade4f61f",
   "metadata": {
    "tags": []
   },
   "outputs": [
    {
     "data": {
      "text/plain": [
       "[Text(0.5, 1.0, 'Median Value of Open Yearly')]"
      ]
     },
     "execution_count": 152,
     "metadata": {},
     "output_type": "execute_result"
    },
    {
     "data": {
      "image/png": "[encoded data removed]",
      "text/plain": [
       "<Figure size 640x480 with 1 Axes>"
      ]
     },
     "metadata": {},
     "output_type": "display_data"
    }
   ],
   "source": [
    "# Write your code here\n",
    "sns.barplot(x = 'year', y='open', data = df_median, palette = 'magma').set(title = 'Median Value of Open Yearly')"
   ]
  },
  {
   "cell_type": "markdown",
   "id": "a40dda80",
   "metadata": {},
   "source": [
    "### Q6. Visualize median value of <code>close</code> yearly."
   ]
  },
  {
   "cell_type": "code",
   "execution_count": 161,
   "id": "1f127d4d",
   "metadata": {
    "tags": []
   },
   "outputs": [
    {
     "data": {
      "text/plain": [
       "[Text(0.5, 1.0, 'Median Value of Close Yearly')]"
      ]
     },
     "execution_count": 161,
     "metadata": {},
     "output_type": "execute_result"
    },
    {
     "data": {
      "image/png": "[encoded data removed]",
      "text/plain": [
       "<Figure size 640x480 with 1 Axes>"
      ]
     },
     "metadata": {},
     "output_type": "display_data"
    }
   ],
   "source": [
    "# Write your code here\n",
    "sns.barplot(x = 'year', y='close', data = df_median, width = 0.5 ).set(title = 'Median Value of Close Yearly')"
   ]
  },
  {
   "cell_type": "code",
   "execution_count": null,
   "id": "ff9698c6",
   "metadata": {},
   "outputs": [],
   "source": []
  },
  {
   "cell_type": "markdown",
   "id": "18ddb74e",
   "metadata": {},
   "source": [
    "## Assignment Notebook Submission \n",
    "\n",
    "Once you complete your notebook you will have to share it. Save all your work and download the file. You will be submitting your notebook for peer review in the next section of the course.\n",
    "\n"
   ]
  },
  {
   "cell_type": "markdown",
   "id": "289c7628",
   "metadata": {},
   "source": [
    "## Author(s)\n",
    "\n",
    "Aditya Singh\n",
    "\n",
    "## Changelog\n",
    "| Date | Version | Changed by | Change Description |\n",
    "|------|--------|--------|---------|\n",
    "| 2021-07-09 | 1.0 | Aditya | Created new version |\n",
    "|   |   |   |   |\n"
   ]
  },
  {
   "cell_type": "markdown",
   "id": "b6ca8718",
   "metadata": {},
   "source": []
  }
 ],
 "metadata": {
  "kernelspec": {
   "display_name": "Python 3 (ipykernel)",
   "language": "python",
   "name": "python3"
  },
  "language_info": {
   "codemirror_mode": {
    "name": "ipython",
    "version": 3
   },
   "file_extension": ".py",
   "mimetype": "text/x-python",
   "name": "python",
   "nbconvert_exporter": "python",
   "pygments_lexer": "ipython3",
   "version": "3.10.9"
  }
 },
 "nbformat": 4,
 "nbformat_minor": 5
}
